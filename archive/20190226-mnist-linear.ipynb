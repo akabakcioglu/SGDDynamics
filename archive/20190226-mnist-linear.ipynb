{
 "cells": [
  {
   "cell_type": "code",
   "execution_count": null,
   "metadata": {},
   "outputs": [],
   "source": [
    "using Knet, Plots, Statistics, LinearAlgebra\n",
    "ENV[\"COLUMNS\"]=40\n",
    "ARRAY = KnetArray{Float64}"
   ]
  },
  {
   "cell_type": "code",
   "execution_count": null,
   "metadata": {},
   "outputs": [],
   "source": [
    "# Load mnist data\n",
    "include(Knet.dir(\"data/mnist.jl\"))\n",
    "xtrn,ytrn,xtst,ytst = mnist()\n",
    "println.(summary.((xtrn,ytrn,xtst,ytst)));"
   ]
  },
  {
   "cell_type": "code",
   "execution_count": null,
   "metadata": {},
   "outputs": [],
   "source": [
    "# Minibatched reshaped version, shuffle=true corresponds to SGD-II\n",
    "dtrn = minibatch(xtrn,ytrn,100;xtype=ARRAY,xsize=(784,:),shuffle=true)\n",
    "x1,y1 = first(dtrn)\n",
    "println.(summary.((dtrn,x1,y1)));"
   ]
  },
  {
   "cell_type": "code",
   "execution_count": null,
   "metadata": {},
   "outputs": [],
   "source": [
    "loss(w,x,y) = nll(w*x,y)"
   ]
  },
  {
   "cell_type": "code",
   "execution_count": null,
   "metadata": {},
   "outputs": [],
   "source": [
    "# Train linear model 20 epochs, takes ~14secs\n",
    "w = param(10,784,atype=ARRAY)\n",
    "Knet.gc()\n",
    "losses = collect(progress(adam((x,y)->loss(w,x,y), repeat(dtrn,20))));"
   ]
  },
  {
   "cell_type": "code",
   "execution_count": null,
   "metadata": {},
   "outputs": [],
   "source": [
    "# Train linear model without minibatching ~50 iters/sec\n",
    "wmin = param(10,784,atype=ARRAY)\n",
    "x,y = ARRAY(reshape(xtrn,784,:)), ytrn\n",
    "Knet.gc()\n",
    "losses = collect(progress(adam((x,y)->loss(wmin,x,y), repeat([(x,y)],10000))));"
   ]
  },
  {
   "cell_type": "code",
   "execution_count": null,
   "metadata": {},
   "outputs": [],
   "source": [
    "plot(losses)"
   ]
  },
  {
   "cell_type": "code",
   "execution_count": null,
   "metadata": {},
   "outputs": [],
   "source": [
    "function diffusiontensor(loss,w,data,lr=0.1) # lr=0.1 is default for sgd\n",
    "    ∇loss = grad(loss)\n",
    "    grads = [ ∇loss(w,x,y) for (x,y) in data ]\n",
    "    n,m = length(grads), mean(grads)\n",
    "    prefac = lr^2/(2n)\n",
    "    v = ARRAY(zeros(length(w),length(w)))\n",
    "    for g in progress(grads)\n",
    "        e=vec(m-g)\n",
    "        axpy!(prefac,e*e',v)\n",
    "    end\n",
    "    return v\n",
    "end"
   ]
  },
  {
   "cell_type": "code",
   "execution_count": null,
   "metadata": {},
   "outputs": [],
   "source": [
    "# compute diffusion tensor ~10 secs\n",
    "Knet.gc()\n",
    "dtmin = diffusiontensor(loss,wmin,dtrn);"
   ]
  },
  {
   "cell_type": "code",
   "execution_count": null,
   "metadata": {},
   "outputs": [],
   "source": [
    "# Compare with results from the old per-instance calc\n",
    "dt1,w1 = Knet.load(\"dt01.jld2\",\"dt\",\"w\")\n",
    "dt3,w3 = Array(dtmin),Array(wmin.value);\n",
    "@show summary.((dt1,w1,dt3,w3))\n",
    "@show extrema(w1), norm(w1), extrema(w3), norm(w3)\n",
    "@show extrema(dt1), norm(dt1), extrema(dt3), norm(dt3)\n",
    "@show isapprox(w1,w3,rtol=0.3), isapprox(dt1,dt3,rtol=0.3);"
   ]
  },
  {
   "cell_type": "code",
   "execution_count": null,
   "metadata": {},
   "outputs": [],
   "source": [
    "function hessian(loss,w,x,y)\n",
    "    ∇loss = grad(loss)\n",
    "    ∇lossi(w,x,y,i) = ∇loss(w,x,y)[i]\n",
    "    ∇∇lossi = grad(∇lossi)\n",
    "    n = length(w)\n",
    "    h = similar(w,n,n)\n",
    "    for i in progress(1:n)\n",
    "        h[:,i] .= vec(∇∇lossi(w,x,y,i))\n",
    "    end\n",
    "    return h\n",
    "end"
   ]
  },
  {
   "cell_type": "code",
   "execution_count": null,
   "metadata": {},
   "outputs": [],
   "source": [
    "# Compute hessian: ~6 mins\n",
    "if true # !isfile(\"hess03.jld2\")\n",
    "    x,y = ARRAY(reshape(xtrn,784,:)), ytrn\n",
    "    Knet.gc()\n",
    "    hmin = hessian(loss,wmin,x,y)\n",
    "    Knet.save(\"hess03.jld2\",\"h\",Array(hmin))\n",
    "else\n",
    "    hmin = ARRAY(Knet.load(\"hess03.jld2\",\"h\"))\n",
    "end\n",
    "summary.((dtmin,hmin))"
   ]
  },
  {
   "cell_type": "code",
   "execution_count": null,
   "metadata": {},
   "outputs": [],
   "source": [
    "H = Array(hmin)\n",
    "@show isapprox(H,H',rtol=0.2)\n",
    "H[4001:4005,4001:4005]"
   ]
  },
  {
   "cell_type": "code",
   "execution_count": null,
   "metadata": {},
   "outputs": [],
   "source": [
    "@time F = eigen(Symmetric((H+H')/2))\n",
    "plot(F.values)"
   ]
  },
  {
   "cell_type": "code",
   "execution_count": null,
   "metadata": {},
   "outputs": [],
   "source": [
    "@show mean(F.values .< 0)\n",
    "@show mean(F.values .== 0)\n",
    "@show mean(F.values .> 0)"
   ]
  },
  {
   "cell_type": "code",
   "execution_count": null,
   "metadata": {},
   "outputs": [],
   "source": [
    "F.values[end-10:end]"
   ]
  },
  {
   "cell_type": "code",
   "execution_count": null,
   "metadata": {},
   "outputs": [],
   "source": [
    "# This calculation is from Michael's overleaf notes:\n",
    "# https://www.overleaf.com/2523873322bvvnxpwnskfk\n",
    "function covariancematrix(D,H;lr=0.1)\n",
    "    LinearAlgebra.BLAS.set_num_threads(20)\n",
    "    @time F = eigen(Symmetric((H+H')/2)) # H not symmetric, eigen gives complex values\n",
    "    h = copy(F.values)\n",
    "    h[h.<1e-8] .= 1e-8\n",
    "    O = F.vectors\n",
    "    Nw = length(h)\n",
    "    @time ODO = O'*D*O;\n",
    "    Delta = zeros(Nw,Nw);\n",
    "    for i=progress(1:Nw)\n",
    "        for j=1:Nw\n",
    "            Delta[i,j] = ODO[i,j]/(h[i]+h[j])\n",
    "        end\n",
    "    end\n",
    "    return (2/lr)*O*Delta*O'\n",
    "end"
   ]
  },
  {
   "cell_type": "code",
   "execution_count": null,
   "metadata": {},
   "outputs": [],
   "source": [
    "@time D = Array(dtmin); # ~ 0.3s\n",
    "@time H = Array(hmin);  # ~ 0.3s"
   ]
  },
  {
   "cell_type": "code",
   "execution_count": null,
   "metadata": {},
   "outputs": [],
   "source": [
    "C = covariancematrix(D,H);"
   ]
  },
  {
   "cell_type": "code",
   "execution_count": null,
   "metadata": {},
   "outputs": [],
   "source": [
    "HH = (H+H')/2\n",
    "z1 = HH*C + C*HH\n",
    "z2 = (2/lr)*D\n",
    "isapprox(z1,z2,rtol=0.2)"
   ]
  },
  {
   "cell_type": "code",
   "execution_count": null,
   "metadata": {},
   "outputs": [],
   "source": [
    "z1[3001:3005,3001:3005]"
   ]
  },
  {
   "cell_type": "code",
   "execution_count": null,
   "metadata": {},
   "outputs": [],
   "source": [
    "z2[3001:3005,3001:3005]"
   ]
  },
  {
   "cell_type": "code",
   "execution_count": null,
   "metadata": {},
   "outputs": [],
   "source": [
    "D[3001:3005,3001:3005]"
   ]
  },
  {
   "cell_type": "code",
   "execution_count": null,
   "metadata": {},
   "outputs": [],
   "source": []
  }
 ],
 "metadata": {
  "kernelspec": {
   "display_name": "Julia 1.1.0",
   "language": "julia",
   "name": "julia-1.1"
  },
  "language_info": {
   "file_extension": ".jl",
   "mimetype": "application/julia",
   "name": "julia",
   "version": "1.1.0"
  }
 },
 "nbformat": 4,
 "nbformat_minor": 2
}
