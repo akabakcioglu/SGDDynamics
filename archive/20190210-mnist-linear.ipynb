{
 "cells": [
  {
   "cell_type": "code",
   "execution_count": null,
   "metadata": {},
   "outputs": [],
   "source": [
    "using Knet, Plots, Statistics, LinearAlgebra\n",
    "# using IterTools, Base.Iterators # take, cycle, takenth\n",
    "# using StatsBase, Statistics # mean, describe\n",
    "ENV[\"COLUMNS\"]=40\n",
    "ARRAY = KnetArray{Float64}"
   ]
  },
  {
   "cell_type": "code",
   "execution_count": null,
   "metadata": {},
   "outputs": [],
   "source": [
    "# Load mnist data\n",
    "include(Knet.dir(\"data/mnist.jl\"))\n",
    "xtrn,ytrn,xtst,ytst = mnist()\n",
    "println.(summary.((xtrn,ytrn,xtst,ytst)));"
   ]
  },
  {
   "cell_type": "code",
   "execution_count": null,
   "metadata": {},
   "outputs": [],
   "source": [
    "# Minibatched reshaped version\n",
    "dtrn = minibatch(xtrn,ytrn,100;xtype=ARRAY,xsize=(784,:),shuffle=true)\n",
    "x1,y1 = first(dtrn)\n",
    "println.(summary.((dtrn,x1,y1)));"
   ]
  },
  {
   "cell_type": "code",
   "execution_count": null,
   "metadata": {},
   "outputs": [],
   "source": [
    "# Train linear model until convergence\n",
    "w = param(10,784,atype=ARRAY)\n",
    "pred(w,x) = w * x\n",
    "loss(w,x,y) = nll(pred(w,x),y)\n",
    "losses = collect(progress(sgd((x,y)->loss(w,x,y), repeat(dtrn,20))));"
   ]
  },
  {
   "cell_type": "code",
   "execution_count": null,
   "metadata": {},
   "outputs": [],
   "source": [
    "plot(losses)"
   ]
  },
  {
   "cell_type": "code",
   "execution_count": null,
   "metadata": {},
   "outputs": [],
   "source": [
    "∇loss(w,x,y) = grad((@diff loss(w,x,y)), w)\n",
    "\n",
    "function diffusiontensor(w,data,lr=0.1)\n",
    "    grads = [ ∇loss(w,x,y) for (x,y) in data ]\n",
    "    m = mean(grads)\n",
    "    v = ARRAY(zeros(length(w),length(w)))\n",
    "    # progress!((e=vec(m-g); v.+=e*e') for g in grads)  # axpy! faster\n",
    "    progress!((e=vec(m-g); axpy!(1,e*e',v)) for g in grads)\n",
    "    (lr^2/2) * v\n",
    "end"
   ]
  },
  {
   "cell_type": "code",
   "execution_count": null,
   "metadata": {},
   "outputs": [],
   "source": [
    "# (-0.00012176828791668883, 0.0002895118920005772)\n",
    "# (-0.00010208279622571245, 0.000302902658497447)\n",
    "dt = diffusiontensor(w,dtrn)\n",
    "extrema(Array(dt)) "
   ]
  },
  {
   "cell_type": "code",
   "execution_count": null,
   "metadata": {},
   "outputs": [],
   "source": [
    "dt1,w1 = Knet.load(\"dt01.jld2\",\"dt\",\"w\") # Results from the per-instance calc"
   ]
  },
  {
   "cell_type": "code",
   "execution_count": null,
   "metadata": {},
   "outputs": [],
   "source": [
    "dt2,w2 = Array(dt),Array(w.value);\n",
    "@show isapprox(w1,w2,rtol=0.3)\n",
    "@show isapprox(dt1/norm(dt1),dt2/norm(dt2),rtol=0.3)"
   ]
  },
  {
   "cell_type": "code",
   "execution_count": null,
   "metadata": {},
   "outputs": [],
   "source": [
    "norm(dt1), norm(dt2)"
   ]
  },
  {
   "cell_type": "code",
   "execution_count": null,
   "metadata": {},
   "outputs": [],
   "source": [
    "Knet.save(\"dt02.jld2\",\"dt\",dt2,\"w\",w2)"
   ]
  },
  {
   "cell_type": "code",
   "execution_count": null,
   "metadata": {},
   "outputs": [],
   "source": []
  }
 ],
 "metadata": {
  "kernelspec": {
   "display_name": "Julia 1.1.0",
   "language": "julia",
   "name": "julia-1.1"
  },
  "language_info": {
   "file_extension": ".jl",
   "mimetype": "application/julia",
   "name": "julia",
   "version": "1.1.0"
  }
 },
 "nbformat": 4,
 "nbformat_minor": 2
}
