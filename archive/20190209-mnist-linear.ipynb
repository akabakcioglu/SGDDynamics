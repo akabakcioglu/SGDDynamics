{
 "cells": [
  {
   "cell_type": "code",
   "execution_count": null,
   "metadata": {},
   "outputs": [],
   "source": [
    "using Knet, Plots\n",
    "# using IterTools, Base.Iterators # take, cycle, takenth\n",
    "# using StatsBase, Statistics # mean, describe\n",
    "ENV[\"COLUMNS\"]=40\n",
    "ARRAY = KnetArray{Float64}"
   ]
  },
  {
   "cell_type": "code",
   "execution_count": null,
   "metadata": {},
   "outputs": [],
   "source": [
    "# Load mnist data\n",
    "include(Knet.dir(\"data/mnist.jl\"))\n",
    "xtrn,ytrn,xtst,ytst = mnist()\n",
    "println.(summary.((xtrn,ytrn,xtst,ytst)));"
   ]
  },
  {
   "cell_type": "code",
   "execution_count": null,
   "metadata": {},
   "outputs": [],
   "source": [
    "# Minibatched reshaped version\n",
    "dtrn = minibatch(xtrn,ytrn,100;xtype=ARRAY,xsize=(784,:),shuffle=true)\n",
    "x1,y1 = first(dtrn)\n",
    "println.(summary.((dtrn,x1,y1)));"
   ]
  },
  {
   "cell_type": "code",
   "execution_count": null,
   "metadata": {},
   "outputs": [],
   "source": [
    "# Train linear model until convergence\n",
    "struct Lin; w; end\n",
    "(f::Lin)(x) = f.w * x\n",
    "(f::Lin)(x,y) = nll(f(x), y)\n",
    "f = Lin(param(10,784,atype=ARRAY))\n",
    "losses = collect(progress(sgd(f,repeat(dtrn,20))));"
   ]
  },
  {
   "cell_type": "code",
   "execution_count": null,
   "metadata": {},
   "outputs": [],
   "source": [
    "plot(losses)"
   ]
  },
  {
   "cell_type": "code",
   "execution_count": null,
   "metadata": {},
   "outputs": [],
   "source": [
    "function diffusiontensor(f,xt,yt,Nb,lr)\n",
    "    w = f.w\n",
    "    Nw = length(w)  # number of weights, that is, dimensions of the diffusion tensor\n",
    "    Nt = length(yt) # number of training examples to be summed over\n",
    "    prefac = (lr^2 / 2) * ((Nt-Nb) / (Nb*(Nt-1)))\n",
    "    # V = zeros(Nw,Nt) # initialize the diffusion matrix\n",
    "    vvt = ARRAY(undef,Nw,Nw) # this is smaller, just keep VV'\n",
    "    vvt .= 0\n",
    "    function helper(i)\n",
    "        j = @diff f(xt[:,i:i],yt[i:i])\n",
    "        g = vec(grad(j,f.w))\n",
    "        vvt .+= g * g'\n",
    "    end\n",
    "    progress!(helper(i) for i in 1:Nt)\n",
    "    j = @diff f(xt,yt)\n",
    "    dL = vec(grad(j,f.w))\n",
    "    return prefac * (vvt/Nt - dL*dL')\n",
    "end"
   ]
  },
  {
   "cell_type": "code",
   "execution_count": null,
   "metadata": {},
   "outputs": [],
   "source": [
    "xt = ARRAY(reshape(xtrn,784,:))\n",
    "yt = ytrn\n",
    "Nb = 100\n",
    "lr = Knet.SGD().lr  # the default learning rate = 0.1\n",
    "Knet.gc()"
   ]
  },
  {
   "cell_type": "code",
   "execution_count": null,
   "metadata": {},
   "outputs": [],
   "source": [
    "dt = diffusiontensor(f,xt,yt,Nb,lr)\n",
    "dt == dt'"
   ]
  },
  {
   "cell_type": "code",
   "execution_count": null,
   "metadata": {},
   "outputs": [],
   "source": [
    "dtcpu = Array(dt)\n",
    "extrema(dtcpu) # (-2.1491637463846156e-7, 5.306538667800477e-7)"
   ]
  },
  {
   "cell_type": "code",
   "execution_count": null,
   "metadata": {},
   "outputs": [],
   "source": [
    "Knet.save(\"dt01.jld2\",\"dt\",dtcpu,\"w\",f.w.value)"
   ]
  },
  {
   "cell_type": "code",
   "execution_count": null,
   "metadata": {},
   "outputs": [],
   "source": []
  }
 ],
 "metadata": {
  "kernelspec": {
   "display_name": "Julia 1.1.0",
   "language": "julia",
   "name": "julia-1.1"
  },
  "language_info": {
   "file_extension": ".jl",
   "mimetype": "application/julia",
   "name": "julia",
   "version": "1.1.0"
  }
 },
 "nbformat": 4,
 "nbformat_minor": 2
}
