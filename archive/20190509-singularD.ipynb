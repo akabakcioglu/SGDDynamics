{
 "cells": [
  {
   "cell_type": "code",
   "execution_count": null,
   "metadata": {},
   "outputs": [],
   "source": [
    "using LinearAlgebra"
   ]
  },
  {
   "cell_type": "code",
   "execution_count": null,
   "metadata": {},
   "outputs": [],
   "source": [
    "d = [1,2,3,4,5,0,0,0,0,0]\n",
    "#d = [1,2,3,4,5,6,7,8,9,10]\n",
    "Ddiag = diagm(0=>d)"
   ]
  },
  {
   "cell_type": "code",
   "execution_count": null,
   "metadata": {},
   "outputs": [],
   "source": [
    "# construct two rotation matrices S1, S2 from eigenvectors of random, real, symmetric matrices R1,R2\n",
    "R1 = rand(length(d),length(d)); R1=R1+R1';eigenR1 = eigen(R1);S1=eigenR1.vectors\n",
    "R2 = rand(length(d),length(d)); R2=R2+R2';eigenR2 = eigen(R2);S2=eigenR2.vectors"
   ]
  },
  {
   "cell_type": "code",
   "execution_count": null,
   "metadata": {},
   "outputs": [],
   "source": [
    "# rotate Ddiag with S1\n",
    "D = S1'*Ddiag*S1"
   ]
  },
  {
   "cell_type": "code",
   "execution_count": null,
   "metadata": {},
   "outputs": [],
   "source": [
    "# construct H1, H2 with nonnegative eigenvalues, using S1, S2\n",
    "h = rand(length(d)); H1 = S1'*diagm(0=>h)*S1; H2 = S2'*diagm(0=>h)*S2"
   ]
  },
  {
   "cell_type": "code",
   "execution_count": null,
   "metadata": {},
   "outputs": [],
   "source": [
    "eigenH1=eigen(H1); eigenH2=eigen(H2); eigenH2.values"
   ]
  },
  {
   "cell_type": "code",
   "execution_count": null,
   "metadata": {},
   "outputs": [],
   "source": [
    "# Solve for Sigma as in Mike's notes\n",
    "function fsigma(eigenH,D)\n",
    "    O = eigenH.vectors\n",
    "    ODO = O'*D*O;\n",
    "    Delta=zeros(length(d),length(d))\n",
    "    for i=1:length(d)\n",
    "        for j=1:length(d)\n",
    "            Delta[i,j]=ODO[i,j]/(eigenH.values[i]+eigenH.values[j])\n",
    "        end\n",
    "    end\n",
    "    Sigma = O*Delta*O'\n",
    "    return Sigma\n",
    "end\n",
    "Sigma1 = fsigma(eigenH1,D)\n",
    "Sigma2 = fsigma(eigenH2,D)\n",
    "# Check that the Lyapunov equation is satisfied\n",
    "@show norm(H1*Sigma1+Sigma1*H1-D)\n",
    "@show norm(H2*Sigma2+Sigma2*H2-D);"
   ]
  },
  {
   "cell_type": "code",
   "execution_count": null,
   "metadata": {},
   "outputs": [],
   "source": [
    "# Is Sigma singular, too?\n",
    "eigen(Sigma1).values"
   ]
  },
  {
   "cell_type": "code",
   "execution_count": null,
   "metadata": {},
   "outputs": [],
   "source": [
    "eigen(Sigma2).values"
   ]
  },
  {
   "cell_type": "code",
   "execution_count": null,
   "metadata": {},
   "outputs": [],
   "source": []
  }
 ],
 "metadata": {
  "@webio": {
   "lastCommId": null,
   "lastKernelId": null
  },
  "kernelspec": {
   "display_name": "Julia 1.1.0",
   "language": "julia",
   "name": "julia-1.1"
  },
  "language_info": {
   "file_extension": ".jl",
   "mimetype": "application/julia",
   "name": "julia",
   "version": "1.1.0"
  }
 },
 "nbformat": 4,
 "nbformat_minor": 2
}
