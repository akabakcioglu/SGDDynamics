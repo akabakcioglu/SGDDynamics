{
 "cells": [
  {
   "cell_type": "code",
   "execution_count": null,
   "metadata": {},
   "outputs": [],
   "source": [
    "using Knet, Plots, Statistics\n",
    "# using IterTools, Base.Iterators # take, cycle, takenth\n",
    "# using StatsBase, Statistics # mean, describe\n",
    "ENV[\"COLUMNS\"]=40\n",
    "ARRAY = KnetArray{Float64}"
   ]
  },
  {
   "cell_type": "code",
   "execution_count": null,
   "metadata": {},
   "outputs": [],
   "source": [
    "# Load mnist data\n",
    "include(Knet.dir(\"data/mnist.jl\"))\n",
    "xtrn,ytrn,xtst,ytst = mnist()\n",
    "println.(summary.((xtrn,ytrn,xtst,ytst)));"
   ]
  },
  {
   "cell_type": "code",
   "execution_count": null,
   "metadata": {},
   "outputs": [],
   "source": [
    "# Minibatched reshaped version\n",
    "dtrn = minibatch(xtrn,ytrn,100;xtype=ARRAY,xsize=(784,:),shuffle=true)\n",
    "x1,y1 = first(dtrn)\n",
    "println.(summary.((dtrn,x1,y1)));"
   ]
  },
  {
   "cell_type": "code",
   "execution_count": null,
   "metadata": {},
   "outputs": [],
   "source": [
    "# Train linear model until convergence\n",
    "w = param(10,784,atype=ARRAY)\n",
    "pred(w,x) = w * x\n",
    "loss(w,x,y) = nll(pred(w,x),y)\n",
    "losses = collect(progress(sgd((x,y)->loss(w,x,y), repeat(dtrn,20))));"
   ]
  },
  {
   "cell_type": "code",
   "execution_count": null,
   "metadata": {},
   "outputs": [],
   "source": [
    "plot(losses)"
   ]
  },
  {
   "cell_type": "code",
   "execution_count": null,
   "metadata": {},
   "outputs": [],
   "source": [
    "∇loss(w,x,y) = grad((@diff loss(w,x,y)), w)\n",
    "\n",
    "function diffusiontensor(w,data,lr=0.1)\n",
    "    grads = [ ∇loss(w,x,y) for (x,y) in data ]\n",
    "    fullgrad = mean(grads)\n",
    "    errors = [ fullgrad - g for g in grads ]\n",
    "    erravg = mean(errors)\n",
    "    errvec = vec(erravg)\n",
    "    dt = errvec * errvec'\n",
    "end"
   ]
  },
  {
   "cell_type": "code",
   "execution_count": null,
   "metadata": {},
   "outputs": [],
   "source": [
    "dt = diffusiontensor(w,dtrn)\n",
    "extrema(Array(dt))"
   ]
  },
  {
   "cell_type": "code",
   "execution_count": null,
   "metadata": {},
   "outputs": [],
   "source": []
  }
 ],
 "metadata": {
  "kernelspec": {
   "display_name": "Julia 1.1.0",
   "language": "julia",
   "name": "julia-1.1"
  },
  "language_info": {
   "file_extension": ".jl",
   "mimetype": "application/julia",
   "name": "julia",
   "version": "1.1.0"
  }
 },
 "nbformat": 4,
 "nbformat_minor": 2
}
