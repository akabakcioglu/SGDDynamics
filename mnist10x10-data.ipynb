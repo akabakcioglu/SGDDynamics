{
 "cells": [
  {
   "cell_type": "code",
   "execution_count": null,
   "metadata": {},
   "outputs": [],
   "source": [
    "using Knet, Images\n",
    "include(Knet.dir(\"data/mnist.jl\"))\n",
    "xtrn,ytrn,xtst,ytst = mnist()\n",
    "xtrn10x10 = zeros(Float32,10,10,1,60000)\n",
    "xtst10x10 = zeros(Float32,10,10,1,10000)\n",
    "@time for i in 1:60000; xtrn10x10[:,:,1,i] .= imresize(xtrn[5:24,5:24,1,i],(10,10)); end\n",
    "@time for i in 1:10000; xtst10x10[:,:,1,i] .= imresize(xtst[5:24,5:24,1,i],(10,10)); end\n",
    "Knet.save(\"mnist10x10.jld2\",\"xtrn\",reshape(xtrn10x10,100,:),\"ytrn\",ytrn,\"xtst\",reshape(xtst10x10,100,:),\"ytst\",ytst)"
   ]
  },
  {
   "cell_type": "code",
   "execution_count": null,
   "metadata": {},
   "outputs": [],
   "source": [
    "summary.(values(Knet.load(\"mnist10x10.jld2\")))"
   ]
  },
  {
   "cell_type": "code",
   "execution_count": null,
   "metadata": {},
   "outputs": [],
   "source": []
  }
 ],
 "metadata": {
  "@webio": {
   "lastCommId": null,
   "lastKernelId": null
  },
  "kernelspec": {
   "display_name": "Julia 1.1.0",
   "language": "julia",
   "name": "julia-1.1"
  },
  "language_info": {
   "file_extension": ".jl",
   "mimetype": "application/julia",
   "name": "julia",
   "version": "1.1.0"
  }
 },
 "nbformat": 4,
 "nbformat_minor": 2
}
