{
 "cells": [
  {
   "cell_type": "code",
   "execution_count": 3,
   "metadata": {},
   "outputs": [
    {
     "name": "stdout",
     "output_type": "stream",
     "text": [
      "  0.212958 seconds (957.96 k allocations: 256.316 MiB, 6.18% gc time)\n",
      "  0.035958 seconds (157.96 k allocations: 42.693 MiB, 7.33% gc time)\n"
     ]
    }
   ],
   "source": [
    "using Knet, Images\n",
    "include(Knet.dir(\"data/mnist.jl\"))\n",
    "xtrn,ytrn,xtst,ytst = mnist()\n",
    "xtrn10x10 = zeros(Float32,10,10,1,60000)\n",
    "xtst10x10 = zeros(Float32,10,10,1,10000)\n",
    "@time for i in 1:60000; xtrn10x10[:,:,1,i] .= imresize(xtrn[5:24,5:24,1,i],(10,10)); end\n",
    "@time for i in 1:10000; xtst10x10[:,:,1,i] .= imresize(xtst[5:24,5:24,1,i],(10,10)); end\n",
    "Knet.save(\"mnist10x10.jld2\",\"xtrn\",reshape(xtrn10x10,100,:),\"ytrn\",ytrn,\"xtst\",reshape(xtst10x10,100,:),\"ytst\",ytst)"
   ]
  },
  {
   "cell_type": "code",
   "execution_count": 5,
   "metadata": {},
   "outputs": [
    {
     "data": {
      "text/plain": [
       "4-element Array{String,1}:\n",
       " \"100×60000 Array{Float32,2}\"  \n",
       " \"10000-element Array{UInt8,1}\"\n",
       " \"60000-element Array{UInt8,1}\"\n",
       " \"100×10000 Array{Float32,2}\"  "
      ]
     },
     "execution_count": 5,
     "metadata": {},
     "output_type": "execute_result"
    }
   ],
   "source": [
    "summary.(values(Knet.load(\"mnist10x10.jld2\")))"
   ]
  },
  {
   "cell_type": "code",
   "execution_count": null,
   "metadata": {},
   "outputs": [],
   "source": []
  }
 ],
 "metadata": {
  "kernelspec": {
   "display_name": "Julia 1.1.0",
   "language": "julia",
   "name": "julia-1.1"
  },
  "language_info": {
   "file_extension": ".jl",
   "mimetype": "application/julia",
   "name": "julia",
   "version": "1.1.0"
  }
 },
 "nbformat": 4,
 "nbformat_minor": 2
}
